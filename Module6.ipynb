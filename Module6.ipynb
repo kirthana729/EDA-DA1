{
  "nbformat": 4,
  "nbformat_minor": 0,
  "metadata": {
    "colab": {
      "provenance": [],
      "authorship_tag": "ABX9TyMA3R5m/keYYKi9eMuzVC/B",
      "include_colab_link": true
    },
    "kernelspec": {
      "name": "python3",
      "display_name": "Python 3"
    },
    "language_info": {
      "name": "python"
    }
  },
  "cells": [
    {
      "cell_type": "markdown",
      "metadata": {
        "id": "view-in-github",
        "colab_type": "text"
      },
      "source": [
        "<a href=\"https://colab.research.google.com/github/kirthana729/EDA-DA1/blob/main/Module6.ipynb\" target=\"_parent\"><img src=\"https://colab.research.google.com/assets/colab-badge.svg\" alt=\"Open In Colab\"/></a>"
      ]
    },
    {
      "cell_type": "code",
      "source": [
        "# Import necessary libraries\n",
        "import pandas as pd\n",
        "import numpy as np\n",
        "from sklearn.decomposition import PCA, FactorAnalysis\n",
        "from sklearn.manifold import MDS, Isomap\n",
        "from sklearn.preprocessing import StandardScaler\n",
        "\n",
        "# Load the dataset\n",
        "file_path = \"/content/elem94_95.csv\"  # Replace with the correct file path\n",
        "data = pd.read_csv(file_path)\n",
        "\n",
        "# Select numerical columns for analysis\n",
        "numerical_columns = ['lunch', 'enrol', 'staff', 'exppp', 'avgsal',\n",
        "                     'avgben', 'math4', 'story4', 'bs', 'lavgsal',\n",
        "                     'lenrol', 'lstaff']\n",
        "data_numeric = data[numerical_columns]\n",
        "\n",
        "# Standardize the data\n",
        "scaler = StandardScaler()\n",
        "data_scaled = scaler.fit_transform(data_numeric)\n",
        "\n",
        "# Dimensionality Reduction Techniques\n",
        "\n",
        "# 1. Principal Component Analysis (PCA)\n",
        "print(\"\\nPrincipal Component Analysis (PCA):\")\n",
        "pca = PCA(n_components=2)\n",
        "data_pca = pca.fit_transform(data_scaled)\n",
        "print(\"Explained Variance Ratio:\", pca.explained_variance_ratio_)\n",
        "print(\"PCA Components:\\n\", pca.components_)\n",
        "\n",
        "# 2. Singular Value Decomposition (SVD)\n",
        "print(\"\\nSingular Value Decomposition (SVD):\")\n",
        "U, S, VT = np.linalg.svd(data_scaled)\n",
        "print(\"Singular Values:\", S)\n",
        "\n",
        "# 3. Factor Analysis\n",
        "print(\"\\nFactor Analysis:\")\n",
        "factor = FactorAnalysis(n_components=2, random_state=42)\n",
        "data_factor = factor.fit_transform(data_scaled)\n",
        "print(\"Factor Loadings:\\n\", factor.components_)\n",
        "\n",
        "# 4. Intrinsic Dimensionality Estimation (using PCA)\n",
        "explained_variance = np.cumsum(pca.explained_variance_ratio_)\n",
        "intrinsic_dim = np.argmax(explained_variance >= 0.95) + 1  # 95% variance threshold\n",
        "print(\"\\nIntrinsic Dimensionality (95% Variance):\", intrinsic_dim)\n",
        "\n",
        "# Non-Linear Methods\n",
        "\n",
        "# 5. Multidimensional Scaling (MDS)\n",
        "print(\"\\nMultidimensional Scaling (MDS):\")\n",
        "mds = MDS(n_components=2, random_state=42)\n",
        "data_mds = mds.fit_transform(data_scaled)\n",
        "print(\"MDS Results Shape:\", data_mds.shape)\n",
        "\n",
        "# 6. Manifold Learning (Isomap)\n",
        "print(\"\\nManifold Learning (Isomap):\")\n",
        "isomap = Isomap(n_neighbors=5, n_components=2)\n",
        "data_isomap = isomap.fit_transform(data_scaled)\n",
        "print(\"Isomap Results Shape:\", data_isomap.shape)\n",
        "\n"
      ],
      "metadata": {
        "colab": {
          "base_uri": "https://localhost:8080/"
        },
        "id": "SsdHGo4SFboz",
        "outputId": "7d5146b1-1894-4720-c5e3-cb1480e56199"
      },
      "execution_count": 11,
      "outputs": [
        {
          "output_type": "stream",
          "name": "stdout",
          "text": [
            "\n",
            "Principal Component Analysis (PCA):\n",
            "Explained Variance Ratio: [0.35822487 0.19840339]\n",
            "PCA Components:\n",
            " [[-0.20689666  0.08509308 -0.39963335  0.03293186  0.4398398   0.41032275\n",
            "   0.14933661  0.13670695 -0.02675931  0.44620752  0.12344638 -0.41387361]\n",
            " [ 0.31262986  0.4556952  -0.18327787 -0.32216128 -0.05750379 -0.01124903\n",
            "  -0.39651867 -0.38051808  0.12704976 -0.05155537  0.4466991  -0.18284366]]\n",
            "\n",
            "Singular Value Decomposition (SVD):\n",
            "Singular Values: [89.12908959 66.33093899 62.63127279 48.01331162 43.3801589  29.54987122\n",
            " 18.7448734  15.57333179 12.35413178  7.7885686   4.86224096  4.28925651]\n",
            "\n",
            "Factor Analysis:\n",
            "Factor Loadings:\n",
            " [[ 0.28632156 -0.10702247  0.8219671  -0.07983204 -0.94418281 -0.87289259\n",
            "  -0.15442652 -0.12136259  0.07327442 -0.94720965 -0.18473252  0.8670861 ]\n",
            " [ 0.02340106 -0.28014947  0.51189798  0.87296727  0.32057836  0.2924608\n",
            "  -0.00824924 -0.01302364 -0.04123828  0.27457713 -0.224881    0.49065866]]\n",
            "\n",
            "Intrinsic Dimensionality (95% Variance): 1\n",
            "\n",
            "Multidimensional Scaling (MDS):\n",
            "MDS Results Shape: (1848, 2)\n",
            "\n",
            "Manifold Learning (Isomap):\n",
            "Isomap Results Shape: (1848, 2)\n"
          ]
        }
      ]
    }
  ]
}