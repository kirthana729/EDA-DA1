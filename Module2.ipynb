{
  "nbformat": 4,
  "nbformat_minor": 0,
  "metadata": {
    "colab": {
      "provenance": [],
      "authorship_tag": "ABX9TyMn+s8D6zyyp5X867ejThW8",
      "include_colab_link": true
    },
    "kernelspec": {
      "name": "python3",
      "display_name": "Python 3"
    },
    "language_info": {
      "name": "python"
    }
  },
  "cells": [
    {
      "cell_type": "markdown",
      "metadata": {
        "id": "view-in-github",
        "colab_type": "text"
      },
      "source": [
        "<a href=\"https://colab.research.google.com/github/kirthana729/EDA-DA1/blob/main/Module2.ipynb\" target=\"_parent\"><img src=\"https://colab.research.google.com/assets/colab-badge.svg\" alt=\"Open In Colab\"/></a>"
      ]
    },
    {
      "source": [
        "import pandas as pd\n",
        "import numpy as np\n",
        "\n",
        "# Load the dataset\n",
        "data_path = '/content/elem94_95.csv'\n",
        "df = pd.read_csv(data_path)\n",
        "\n",
        "# --- Data Transformation Module ---\n",
        "\n",
        "# 1. Data Deduplication\n",
        "print(\"\\n--- Data Deduplication ---\")\n",
        "print(\"Original shape:\", df.shape)\n",
        "df = df.drop_duplicates()\n",
        "print(\"Shape after deduplication:\", df.shape)\n",
        "\n",
        "# 2. Replacing Values\n",
        "print(\"\\n--- Replacing Values ---\")\n",
        "# Example: Replace negative values in 'lunch' column with NaN (if applicable)\n",
        "if 'lunch' in df.columns:\n",
        "    df['lunch'] = df['lunch'].apply(lambda x: np.nan if x < 0 else x)\n",
        "    print(\"Values in 'lunch' column replaced where negative values are found.\")\n",
        "\n",
        "# 3. Discretization and Binning\n",
        "print(\"\\n--- Discretization and Binning ---\")\n",
        "# Example: Binning 'lunch' column into categories\n",
        "if 'lunch' in df.columns:\n",
        "    bins = [0, 25, 50, 75, 100]  # Define bin edges\n",
        "    labels = ['Low', 'Medium', 'High', 'Very High']  # Define bin labels\n",
        "    df['lunch_bin'] = pd.cut(df['lunch'], bins=bins, labels=labels)\n",
        "    print(df[['lunch', 'lunch_bin']].head())\n",
        "\n",
        "# 4. Handling Missing Data\n",
        "print(\"\\n--- Handling Missing Data ---\")\n",
        "# Checking for missing data\n",
        "print(\"Missing data before handling:\")\n",
        "print(df.isnull().sum())\n",
        "\n",
        "# Traditional Methods: Fill missing values with column mean\n",
        "print(\"\\n--- Filling Missing Data with Column Mean ---\")\n",
        "# Select only numerical columns for calculating the mean\n",
        "numeric_cols = df.select_dtypes(include=np.number).columns  # Get list of numerical columns\n",
        "df[numeric_cols] = df[numeric_cols].fillna(df[numeric_cols].mean())  # Apply fillna only to numerical columns\n",
        "print(\"Missing data after handling:\")\n",
        "print(df.isnull().sum())\n",
        "\n"
      ],
      "cell_type": "code",
      "metadata": {
        "id": "gLS3u77q8vQx",
        "outputId": "bcbcf137-5dc3-49fb-af4f-8b774b6685a1",
        "colab": {
          "base_uri": "https://localhost:8080/"
        }
      },
      "execution_count": 3,
      "outputs": [
        {
          "output_type": "stream",
          "name": "stdout",
          "text": [
            "\n",
            "--- Data Deduplication ---\n",
            "Original shape: (1848, 15)\n",
            "Shape after deduplication: (1848, 15)\n",
            "\n",
            "--- Replacing Values ---\n",
            "Values in 'lunch' column replaced where negative values are found.\n",
            "\n",
            "--- Discretization and Binning ---\n",
            "       lunch lunch_bin\n",
            "0  48.299999    Medium\n",
            "1  51.500000      High\n",
            "2  51.200001      High\n",
            "3  33.700001    Medium\n",
            "4  11.900000       Low\n",
            "\n",
            "--- Handling Missing Data ---\n",
            "Missing data before handling:\n",
            "rownames      0\n",
            "distid        0\n",
            "schid         0\n",
            "lunch         0\n",
            "enrol         0\n",
            "staff         0\n",
            "exppp         0\n",
            "avgsal        0\n",
            "avgben        0\n",
            "math4         0\n",
            "story4        0\n",
            "bs            0\n",
            "lavgsal       0\n",
            "lenrol        0\n",
            "lstaff        0\n",
            "lunch_bin    48\n",
            "dtype: int64\n",
            "\n",
            "--- Filling Missing Data with Column Mean ---\n",
            "Missing data after handling:\n",
            "rownames      0\n",
            "distid        0\n",
            "schid         0\n",
            "lunch         0\n",
            "enrol         0\n",
            "staff         0\n",
            "exppp         0\n",
            "avgsal        0\n",
            "avgben        0\n",
            "math4         0\n",
            "story4        0\n",
            "bs            0\n",
            "lavgsal       0\n",
            "lenrol        0\n",
            "lstaff        0\n",
            "lunch_bin    48\n",
            "dtype: int64\n"
          ]
        }
      ]
    }
  ]
}